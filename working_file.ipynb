{
 "cells": [
  {
   "cell_type": "code",
   "execution_count": 5,
   "metadata": {},
   "outputs": [
    {
     "data": {
      "text/plain": [
       "[{'item_name': 'faa'}, {'item_name': 'fee'}, {'item_name': 'fii'}]"
      ]
     },
     "execution_count": 5,
     "metadata": {},
     "output_type": "execute_result"
    }
   ],
   "source": [
    "fake_items_db = [\n",
    "    {\"item_name\": \"faa\"},\n",
    "    {\"item_name\": \"fee\"},\n",
    "    {\"item_name\": \"fii\"},\n",
    "    {\"item_name\": \"foo\"},\n",
    "    {\"item_name\": \"fuu\"},\n",
    "    {\"item_name\": \"baa\"},\n",
    "    {\"item_name\": \"bee\"}\n",
    "]\n",
    "\n",
    "fake_items_db[0:3]"
   ]
  },
  {
   "cell_type": "code",
   "execution_count": 8,
   "metadata": {},
   "outputs": [
    {
     "data": {
      "text/plain": [
       "True"
      ]
     },
     "execution_count": 8,
     "metadata": {},
     "output_type": "execute_result"
    }
   ],
   "source": [
    "me = {\"item_name\": \"faa\"}\n",
    "me[\"item_name\"]\n",
    "\n",
    "\"item_name\" in me.keys()"
   ]
  }
 ],
 "metadata": {
  "kernelspec": {
   "display_name": "env",
   "language": "python",
   "name": "python3"
  },
  "language_info": {
   "codemirror_mode": {
    "name": "ipython",
    "version": 3
   },
   "file_extension": ".py",
   "mimetype": "text/x-python",
   "name": "python",
   "nbconvert_exporter": "python",
   "pygments_lexer": "ipython3",
   "version": "3.12.0"
  }
 },
 "nbformat": 4,
 "nbformat_minor": 2
}
