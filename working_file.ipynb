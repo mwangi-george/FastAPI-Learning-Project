{
 "cells": [
  {
   "cell_type": "code",
   "execution_count": 5,
   "metadata": {},
   "outputs": [
    {
     "data": {
      "text/plain": [
       "[{'item_name': 'faa'}, {'item_name': 'fee'}, {'item_name': 'fii'}]"
      ]
     },
     "execution_count": 5,
     "metadata": {},
     "output_type": "execute_result"
    }
   ],
   "source": [
    "fake_items_db = [\n",
    "    {\"item_name\": \"faa\"},\n",
    "    {\"item_name\": \"fee\"},\n",
    "    {\"item_name\": \"fii\"},\n",
    "    {\"item_name\": \"foo\"},\n",
    "    {\"item_name\": \"fuu\"},\n",
    "    {\"item_name\": \"baa\"},\n",
    "    {\"item_name\": \"bee\"}\n",
    "]\n",
    "\n",
    "fake_items_db[0:3]"
   ]
  },
  {
   "cell_type": "code",
   "execution_count": 1,
   "metadata": {},
   "outputs": [
    {
     "data": {
      "text/plain": [
       "True"
      ]
     },
     "execution_count": 1,
     "metadata": {},
     "output_type": "execute_result"
    }
   ],
   "source": [
    "me = {\"item_name\": \"faa\"}\n",
    "me[\"item_name\"]\n",
    "\n",
    "\"item_name\" in me.keys()"
   ]
  },
  {
   "cell_type": "code",
   "execution_count": 2,
   "metadata": {},
   "outputs": [
    {
     "name": "stdout",
     "output_type": "stream",
     "text": [
      "{'a': 1, 'b': 3, 'c': 4}\n"
     ]
    }
   ],
   "source": [
    "my_dict = {'a': 1, 'b': 2}\n",
    "\n",
    "# Update with another dictionary\n",
    "another_dict = {'b': 3, 'c': 4}\n",
    "my_dict.update(another_dict)\n",
    "print(my_dict)"
   ]
  },
  {
   "cell_type": "code",
   "execution_count": 4,
   "metadata": {},
   "outputs": [
    {
     "name": "stdout",
     "output_type": "stream",
     "text": [
      "{'a': 1, 'b': 3, 'c': 4, 'd': 45}\n"
     ]
    }
   ],
   "source": [
    "my_dict.update(\n",
    "    {\"d\": 45}\n",
    ")\n",
    "print(my_dict)"
   ]
  },
  {
   "cell_type": "code",
   "execution_count": 9,
   "metadata": {},
   "outputs": [
    {
     "data": {
      "text/plain": [
       "{'a': 40, 'b': 3, 'c': 4, 'd': 45, 'e': 40, 'f': 34}"
      ]
     },
     "execution_count": 9,
     "metadata": {},
     "output_type": "execute_result"
    }
   ],
   "source": [
    "# update with keyword arguments\n",
    "my_dict.update(a=40, f=34)\n",
    "my_dict"
   ]
  },
  {
   "cell_type": "code",
   "execution_count": 14,
   "metadata": {},
   "outputs": [
    {
     "name": "stdout",
     "output_type": "stream",
     "text": [
      "True\n"
     ]
    }
   ],
   "source": [
    "f = True\n",
    "if f:\n",
    "    print(\"True\")\n",
    "else:\n",
    "    print(\"No\")"
   ]
  }
 ],
 "metadata": {
  "kernelspec": {
   "display_name": "env",
   "language": "python",
   "name": "python3"
  },
  "language_info": {
   "codemirror_mode": {
    "name": "ipython",
    "version": 3
   },
   "file_extension": ".py",
   "mimetype": "text/x-python",
   "name": "python",
   "nbconvert_exporter": "python",
   "pygments_lexer": "ipython3",
   "version": "3.12.0"
  }
 },
 "nbformat": 4,
 "nbformat_minor": 2
}
